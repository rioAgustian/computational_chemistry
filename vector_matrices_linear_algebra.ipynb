{
 "cells": [
  {
   "cell_type": "markdown",
   "id": "4feb87b4-5659-479c-b18f-5cd07f7cf957",
   "metadata": {},
   "source": [
    "# Vectors, Matrices and Linear Algebra\n",
    "\n",
    "**Rio Agustian Gilang Fernando**\n",
    "\n",
    "**Advanced Material Science and Nanotechnology**"
   ]
  },
  {
   "cell_type": "markdown",
   "id": "457cc6fa-a954-47e6-bf96-4ea5401d0051",
   "metadata": {},
   "source": [
    "<center>\n",
    "<i>Balancing a combustion Reaction<i>\n",
    "</center>\n",
    "\n",
    "As asn example of balancing a chemical reaction, take the combustion of octane $C_8H{18}$. We wish to find the value of the coefficients a, b, c, and d in the following equation:\n",
    "\n",
    "$$\n",
    "\\require{mchem}\n",
    "\\ce{aC8H18 + bO2 -> cCO2 + dH2O}\n",
    "$$\n",
    "\n",
    "The stoichiometric constraints can be written as a sequence of three equations, one for each of the atoms C, H, and O:\n",
    "\n",
    "\\begin{align}\n",
    "8a - c = & 0 \\\\\n",
    "18a - 2d = & 0 \\\\\n",
    "2b - 2c - d = & 0 \\\\\n",
    "\\end{align}\n",
    "\n",
    "In the matrix form, these equations take the form **Mc = 0**:\n",
    "\n",
    "$$\n",
    "\\begin{pmatrix}\n",
    "8  & 0 & -1 &  0 \\\\\n",
    "18 & 0 &  0 & -2 \\\\\n",
    "0  & 2 & -2 & -1 \n",
    "\\end{pmatrix}\n",
    "\\begin{pmatrix}\n",
    "a \\\\\n",
    "b \\\\\n",
    "c \\\\\n",
    "d \n",
    "\\end{pmatrix}\n",
    "=0\n",
    "$$\n",
    "\n",
    "where **M** is the chemical composition matrix.\n",
    "\n",
    "This system is undertermined (there are four coefficients to find, but only three equations). Howeverr, since we can clearly multiply every coefficient by the same constant and keep the equation balanced, we can choose to fix one of them to a value we choose, say $a=1$. Then the system to be solves can be written **Ac=x**:\n",
    "\n",
    "$$\n",
    "\\begin{pmatrix}\n",
    "8  & 0 & -1 &  0 \\\\\n",
    "18 & 0 &  0 & -2 \\\\\n",
    "0  & 2 & -2 & -1 \\\\\n",
    "1  & 0 &  0 &  0\n",
    "\\end{pmatrix}\n",
    "\\begin{pmatrix}\n",
    "a \\\\\n",
    "b \\\\\n",
    "c \\\\\n",
    "d \n",
    "\\end{pmatrix}\n",
    "=0\n",
    "$$\n",
    "\n",
    "where **M** has been augmented to form **A** bu the addition of the final row corresponding to the constraint $a=1$. This system if equations can be solved uniquely as follows."
   ]
  },
  {
   "cell_type": "code",
   "execution_count": 38,
   "id": "56de72ed-babe-4e0c-bc9c-ff9e69cb365c",
   "metadata": {},
   "outputs": [
    {
     "name": "stdout",
     "output_type": "stream",
     "text": [
      "a = 1.0, b = 12.5, c = 8.0, d = 9.0\n"
     ]
    }
   ],
   "source": [
    "import numpy as np\n",
    "\n",
    "A = np.array([[8,  0, -1,  0], # C\n",
    "              [18, 0,  0, -2], # H\n",
    "              [0,  2, -2, -1], # O\n",
    "              [1,  0,  0,  0]  # constraint: a = 1\n",
    "])\n",
    "x = np.array([0, 0, 0, 1])\n",
    "\n",
    "coeffs = np.linalg.solve(A, x)\n",
    "print('a = {}, b = {}, c = {}, d = {}'.format(*coeffs))"
   ]
  },
  {
   "cell_type": "markdown",
   "id": "fddaae39-e8ba-4aed-b69d-0c2e294ff675",
   "metadata": {},
   "source": [
    "That is,\n",
    "\n",
    "$$\n",
    "\\ce{C8H18 + 25/2O2 -> 8CO2 + 9H2O}\n",
    "$$\n",
    "\n",
    "Or equivalently\n",
    "\n",
    "$$\n",
    "\\ce{2C8H18 + 25O2 -> 16CO2 + 18H2O}\n",
    "$$\n"
   ]
  },
  {
   "cell_type": "markdown",
   "id": "f5d72324-b10c-4323-a304-788b197e181f",
   "metadata": {},
   "source": [
    "<center>\n",
    "    <i>Balancing a Redox reaction<i>\n",
    "</center>\n",
    "\n",
    "Iron (II) is oxidized to iron (III) by hydrogen  peroxide in the presence of acid. The speciess involved in this reaction are therefore $\\mathrm{Fe^{2+}, \\, H_2O_2, \\, H^+, \\, Fe^{3+}}$ and $\\mathrm{H_2O}$:\n",
    "\n",
    "$$\n",
    "\\ce{aFe^2+ + bH2O2 + cH+ -> dFe3+ + eH2O}.\n",
    "$$\n",
    "\n",
    "In addition to balancing the atom stoichiometrics, we must also conserve the charge, which leads to following equations:\n",
    "\n",
    "\\begin{align}\n",
    "\\mathrm{Fe}: & \\quad a = d\\\\\n",
    "\\mathrm{H}: & \\quad 2b + c = 2e\\\\\n",
    "\\mathrm{O}: & \\quad 2b = e\\\\\n",
    "\\mathrm{charge}: & \\quad 2a + c = 3d\\\\\n",
    "\\end{align}\n",
    "\n",
    "Again, the problem is underdetermined but we can set the constraint a = 1 since we know we can scale all the coefficients by the same amount and keep the reaction balanced. Therfore, in matrix form:\n",
    "\n",
    "$$\n",
    "\\begin{pmatrix}\n",
    "-1 &  0 &  0 & 1 & 0 \\\\\n",
    " 0 & -2 & -1 & 0 & 2 \\\\\n",
    " 0 & -2 &  0 & 0 & 1 \\\\\n",
    "-2 &  0 & -1 & 3 & 0 \\\\\n",
    "-1 &  0 &  0 & 0 & 0 \\\\\n",
    "\\end{pmatrix}\n",
    "\\begin{pmatrix}\n",
    "a \\\\\n",
    "b \\\\\n",
    "c \\\\\n",
    "d \\\\\n",
    "e \\\\\n",
    "\\end{pmatrix}\n",
    "=\n",
    "\\begin{pmatrix}\n",
    "0 \\\\\n",
    "0 \\\\\n",
    "0 \\\\\n",
    "0 \\\\\n",
    "1 \\\\\n",
    "\\end{pmatrix}\n",
    "$$"
   ]
  },
  {
   "cell_type": "code",
   "execution_count": 43,
   "id": "f2fcc719-9ae4-4d6f-890b-5a37d8759f67",
   "metadata": {},
   "outputs": [
    {
     "name": "stdout",
     "output_type": "stream",
     "text": [
      "a, b, c, d, e =  [1.  0.5 1.  1.  1. ]\n"
     ]
    }
   ],
   "source": [
    "A = np.array([[-1,  0,  0, 1, 0], # Fe\n",
    "              [ 0, -2, -1, 0, 2], # H\n",
    "              [ 0, -2,  0, 0, 1], # O\n",
    "              [-2,  0, -1, 3, 0], # charge\n",
    "              [ 1,  0,  0, 0, 0] # constraints: a = 1\n",
    "])\n",
    "\n",
    "x = np.array([0, 0, 0, 0, 1])\n",
    "coeffs = np.linalg.solve(A, x)\n",
    "print('a, b, c, d, e = ', coeffs)"
   ]
  },
  {
   "cell_type": "markdown",
   "id": "6fb63332-8734-4b01-92ab-4d3e3ea1c836",
   "metadata": {},
   "source": [
    "Balancing the equation with integer coefficients then gives\n",
    "\n",
    "$$\n",
    "\\ce{2Fe2+ + H2O2 + 2H+ -> 2Fe3+ + 2H2O}.\n",
    "$$"
   ]
  },
  {
   "cell_type": "markdown",
   "id": "a8621c4d-2adc-4569-bcad-4521a336957f",
   "metadata": {},
   "source": [
    "<center>\n",
    "    <i>The Moment of Inertia of a Molecule<i>\n",
    "<center>"
   ]
  },
  {
   "cell_type": "code",
   "execution_count": 94,
   "id": "f76880f4-66be-4282-9053-09444e7c6617",
   "metadata": {},
   "outputs": [
    {
     "name": "stdout",
     "output_type": "stream",
     "text": [
      "CHCl3: A = 0.109 cm^-1, B = 0.109 cm^-1, C = 0.057 cm^-1\n"
     ]
    }
   ],
   "source": [
    "import numpy as np\n",
    "from scipy.constants import u, h, c\n",
    "\n",
    "def translate_to_cofm(m, x, y, z):\n",
    "    \"\"\"Translate the atom position to be raltive to the CofM.\"\"\"\n",
    "    # Total molecular mass.\n",
    "    M = np.sum(m)\n",
    "    # Position of centre of Mass in original coordinates.\n",
    "    xCM = np.sum(m * x) / M\n",
    "    yCM = np.sum(m * y) / M\n",
    "    zCM = np.sum(m * z) / M\n",
    "    # Transform to CofM coordinates and return them.\n",
    "    return x - xCM, y - yCM, z - zCM\n",
    "\n",
    "def get_inertia_matrix(m, x, y, z):\n",
    "    \"\"\"Return the moment of inertia tensor.\"\"\"\n",
    "    x, y, z = translate_to_cofm(m, x, y, z)\n",
    "    Ixx = np.sum(m * (y**2 + z**2))\n",
    "    Iyy = np.sum(m * (x**2 + z**2))\n",
    "    Izz = np.sum(m * (x**2 + y**2))\n",
    "    Ixy = -np.sum(m * x * y)\n",
    "    Iyz = -np.sum(m * y * z)\n",
    "    Ixz = -np.sum(m * x * z)\n",
    "    I = np.array([[Ixx, Ixy, Ixz],\n",
    "                  [Ixy, Iyy, Iyz],\n",
    "                  [Ixz, Iyz, Izz]       \n",
    "    ])\n",
    "    return I\n",
    "\n",
    "def get_principal_moi(I):\n",
    "    \"\"\"Determine the principal moments of inertia.\"\"\"\n",
    "    # The principal moments of inertia are the eigenvalues of the moment\n",
    "    # of inertia tensor.\n",
    "    Ip = np.linalg.eigvals(I)\n",
    "    # SSor and convert principal moments of inertia to kg.m2 before returning\n",
    "    Ip.sort()\n",
    "    return Ip * u / 1e20\n",
    "\n",
    "def get_rotational_constants(filename):\n",
    "    \"\"\"Return the rotational constants, A, B, and C (in cm-1) for  molecule.\n",
    "    The atomic coordinates are retrived from filename which should have \n",
    "    four columns of data: mass (in Da), and x, y, z coordinates (in Angstroms)\n",
    "    \"\"\"\n",
    "    m, x, y, z = np.genfromtxt(filename, unpack=True)\n",
    "    I = get_inertia_matrix(m, x, y, z)\n",
    "    Ip = get_principal_moi(I)\n",
    "    A, B, C = h / 8 / np.pi**2 / c / 100 / Ip\n",
    "    return A, B, C\n",
    "\n",
    "A, B, C = get_rotational_constants(r\"C:\\Users\\Rio Agustian\\Documents\\S2\\CHEMISTRY\\CODE\\CHCl3.txt\")\n",
    "print(f'CHCl3: A = {A:.3f} cm^-1, B = {B:.3f} cm^-1, C = {C:.3f} cm^-1')"
   ]
  },
  {
   "cell_type": "code",
   "execution_count": 96,
   "id": "20065160-c3d1-4725-bcde-107fe00d0adb",
   "metadata": {},
   "outputs": [
    {
     "name": "stdout",
     "output_type": "stream",
     "text": [
      "CHCl3: A = 10.060 cm^-1, B = 0.874 cm^-1, C = 0.839 cm^-1\n"
     ]
    }
   ],
   "source": [
    "A, B, C = get_rotational_constants(r\"C:\\Users\\Rio Agustian\\Documents\\S2\\CHEMISTRY\\CODE\\H2O2.txt\")\n",
    "print(f'CHCl3: A = {A:.3f} cm^-1, B = {B:.3f} cm^-1, C = {C:.3f} cm^-1')"
   ]
  }
 ],
 "metadata": {
  "kernelspec": {
   "display_name": "Python 3 (ipykernel)",
   "language": "python",
   "name": "python3"
  },
  "language_info": {
   "codemirror_mode": {
    "name": "ipython",
    "version": 3
   },
   "file_extension": ".py",
   "mimetype": "text/x-python",
   "name": "python",
   "nbconvert_exporter": "python",
   "pygments_lexer": "ipython3",
   "version": "3.12.4"
  }
 },
 "nbformat": 4,
 "nbformat_minor": 5
}
