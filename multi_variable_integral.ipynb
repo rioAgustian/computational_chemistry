{
 "cells": [
  {
   "cell_type": "markdown",
   "id": "20651c03-22a1-463a-9f81-09e36a348fca",
   "metadata": {},
   "source": [
    "# Numerical Integration: Integrals of Two and Three Variables\n",
    "\n",
    "**Rio Agustian Gilang Fernnado**\n",
    "\n",
    "**Advanced Material Science and Nanotechnology**"
   ]
  },
  {
   "cell_type": "markdown",
   "id": "8903798e-b955-423c-b212-ad90ed5af003",
   "metadata": {},
   "source": [
    "The ```scipy.integrate``` methods dblquad nd tplquad evaluate double and triple integrals, repectively.\n",
    "\n",
    "\n",
    "\\begin{align}\n",
    "&\\int_a^b \\int_{g(x)}^{h(x)} f(x, \\, y) \\mathrm{d}y \\; \\mathrm{d}x, \\\\\n",
    "&\\int_a^b \\int_{g(x)}^{h(x)} \\int_{q(x,y)}^{r(x,y)} f(x, \\, y, \\, z) \\mathrm{d}z \\; \\mathrm{d}y \\; \\mathrm{d}x,\n",
    "\\end{align}\n",
    "\n",
    "Note that the limits on all but the oyter must be provided as callable on=bjects (e.g., a Python funstion) since they may depend on other variables. As an example, take the integral of the function $f(x,y) = xy^3$ over the region enclosed by the line y = x and the parabola y = x^2. The line aand curve meet at x = 0 and x = 1, and since y = x^2 lies below y = x for o < x < 1, the integral is\n",
    "\n",
    "$$\n",
    "I = \\int_0^1 \\int_{x^2}^x xy^3 \\mathrm{d}y \\; \\mathrm{d}x.\n",
    "$$\n",
    "\n",
    "\n",
    "![Figure](graph.png)\n",
    "\n",
    "Figure 1. The region bounded by the line y = x and the curve y = x^2\n",
    "\n",
    "The region is illustrated in Figure 1, which can be generated using Matplotlib:"
   ]
  },
  {
   "cell_type": "code",
   "execution_count": 7,
   "id": "d31ce5ca-f3db-46da-93e2-e365beeaa0ca",
   "metadata": {},
   "outputs": [
    {
     "data": {
      "image/png": "[encoded data removed]",
      "text/plain": [
       "<Figure size 640x480 with 1 Axes>"
      ]
     },
     "metadata": {},
     "output_type": "display_data"
    }
   ],
   "source": [
    "import numpy as np\n",
    "import matplotlib.pyplot as plt\n",
    "\n",
    "x = np.linspace(0, 1.2, 1000)\n",
    "h = x**2\n",
    "g, h = x**2, x\n",
    "\n",
    "plt.plot(x, h, c='black')\n",
    "plt.plot(x, g, c='black')\n",
    "plt.fill_between(x[x <= 1], g[x <= 1], h[x <= 1])\n",
    "plt.xlabel('x')\n",
    "plt.ylabel('y')\n",
    "plt.show()"
   ]
  },
  {
   "cell_type": "markdown",
   "id": "a2ff0967-996c-4c95-ae5b-dc0db20e47d8",
   "metadata": {},
   "source": [
    "This particular integral can be evaluated analytically:\n",
    "\n",
    "\\begin{align}\n",
    "I &= \\int_0^1 \\left[ \\frac{1}{4} xy^4 \\right]_{y=x^2}^{y=x} \\mathrm(d)x \\\\ \n",
    " &= \\int_0^1 \\frac{1}{4} x^5 - \\frac{1}{4}x^9 \\mathrm{d}x \\\\\n",
    " &=\\left[ \\frac{1}{24}x^6 - \\frac{1}{40}x^{10}\\right]_0^1 \\\\\n",
    " &=\\frac{1}{60}\n",
    "\\end{align}\n",
    "\n",
    "Numerically, using dblquad, the function must be defined with the innermost variable (y) given as the first argument, and its limits themeselves defined as functions the outermost variable (x):"
   ]
  },
  {
   "cell_type": "code",
   "execution_count": 24,
   "id": "2d49d24a-b124-4b75-9e9e-a321de7b20bf",
   "metadata": {},
   "outputs": [
    {
     "data": {
      "text/plain": [
       "(0.016666666666666666, 5.826435989325954e-16)"
      ]
     },
     "execution_count": 24,
     "metadata": {},
     "output_type": "execute_result"
    }
   ],
   "source": [
    "from scipy.integrate import dblquad, tplquad\n",
    "\n",
    "def func(y, x):\n",
    "    return x * y**3\n",
    "\n",
    "g = lambda x: x**2 # lower limit of y-integral\n",
    "h = lambda x: x # upper limit of y-integral\n",
    "a, b = 0, 1 # limits of the x-integral\n",
    "\n",
    "dblquad(func, a, b, g, h)\n"
   ]
  },
  {
   "cell_type": "markdown",
   "id": "a06595c8-eb13-41b4-9923-48332cf2ec69",
   "metadata": {},
   "source": [
    "which is $\\frac{1}{60}$ witihin the numerical error in the quadrature.\n",
    "\n",
    "To calculate the area of the region, one can simply integrate the function f(x, y) = 1 over it:"
   ]
  },
  {
   "cell_type": "code",
   "execution_count": 20,
   "id": "c272ece7-8b2c-4519-8207-e98a64c2a027",
   "metadata": {},
   "outputs": [
    {
     "data": {
      "text/plain": [
       "(0.16666666666666666, 2.7755575615628914e-15)"
      ]
     },
     "execution_count": 20,
     "metadata": {},
     "output_type": "execute_result"
    }
   ],
   "source": [
    "dblquad(lambda y, x: 1, 0, 1, g, h)"
   ]
  },
  {
   "cell_type": "markdown",
   "id": "4b19fb06-35c1-449f-b460-28dacdea33e6",
   "metadata": {},
   "source": [
    "and, indeed:\n",
    "\n",
    "$$\n",
    "\\int_0^1 \\int_{x^2}^x \\mathrm{d}y \\mathrm{d}x = \\int_0^1 x - x^2 \\mathrm{d}x = \\frac{1}{2} - \\frac{1}{3} = \\frac{1}{6}.\n",
    "$$\n",
    "\n",
    "A similar approach can be taken with triple integrals, such as those over three dimensional space. The volume of the unit sphere can be expressed in Cartesian coordinates as eight times the integral over this positive octant:\n",
    "\n",
    "$$\n",
    "8 \\int_0^1 \\int_0^{\\sqrt{1-x^2}} \\int_0^{\\sqrt{1-x^2-y^2}} \\mathrm{d}z \\; \\mathrm{d}y \\; \\mathrm{d}x ,\n",
    "$$\n",
    "\n",
    "Using tplquad, with the inner limits again expressed as anonymous functions:"
   ]
  },
  {
   "cell_type": "code",
   "execution_count": 32,
   "id": "b32836ca-8808-454e-a714-4795243f215a",
   "metadata": {},
   "outputs": [
    {
     "data": {
      "text/plain": [
       "4.188790204786391"
      ]
     },
     "execution_count": 32,
     "metadata": {},
     "output_type": "execute_result"
    }
   ],
   "source": [
    "A, _ = tplquad(lambda z, y, x:1,\n",
    "               0, 1,\n",
    "               lambda x: 0, lambda x: np.sqrt(1 - x**2),\n",
    "               lambda x, y: 0, lambda x, y: np.sqrt(1- x**2 - y**2))\n",
    "8*A"
   ]
  },
  {
   "cell_type": "markdown",
   "id": "b73ab692-d992-496f-917e-e8c27445847e",
   "metadata": {},
   "source": [
    "whish is $4\\pi/3$ within numerical error.\n",
    "\n",
    "The same volume expressed in speherical polar coordinates becomes\n",
    "\n",
    "$$\n",
    "\\int_0^{2\\pi} \\int_0^{\\pi} \\int_0^{1} r^2 \\sin{\\theta} \\; \\mathrm{d}r \\; \\mathrm{d} \\theta \\;\\mathrm{d} \\phi \\\n",
    "$$"
   ]
  },
  {
   "cell_type": "code",
   "execution_count": 38,
   "id": "224442d7-41bb-4b61-9197-49b35eb5ea27",
   "metadata": {},
   "outputs": [
    {
     "data": {
      "text/plain": [
       "(4.18879020478639, 1.389095079694993e-13)"
      ]
     },
     "execution_count": 38,
     "metadata": {},
     "output_type": "execute_result"
    }
   ],
   "source": [
    "tplquad(lambda phi, theta, r: r**2 * np.sin(theta),\n",
    "       0, 1,\n",
    "       lambda theta: 0, lambda theta: np.pi, \n",
    "       lambda theta, phi: 0, lambda theta, phi: 2*np.pi)\n"
   ]
  }
 ],
 "metadata": {
  "kernelspec": {
   "display_name": "Python 3 (ipykernel)",
   "language": "python",
   "name": "python3"
  },
  "language_info": {
   "codemirror_mode": {
    "name": "ipython",
    "version": 3
   },
   "file_extension": ".py",
   "mimetype": "text/x-python",
   "name": "python",
   "nbconvert_exporter": "python",
   "pygments_lexer": "ipython3",
   "version": "3.12.4"
  }
 },
 "nbformat": 4,
 "nbformat_minor": 5
}
