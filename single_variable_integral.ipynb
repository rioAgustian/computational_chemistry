{
 "cells": [
  {
   "cell_type": "markdown",
   "id": "02b4c532-a86f-4a72-aca4-f067bb45a6b2",
   "metadata": {},
   "source": [
    "# Numerical Integration: Integrals of a Single Variable\n",
    "\n",
    "**Rio Agustian Gilang Fernando**\n",
    "\n",
    "**Advanced Material Science and Nanotechnology**"
   ]
  },
  {
   "cell_type": "markdown",
   "id": "361daa04-3d13-40e9-a815-870f03802ccb",
   "metadata": {},
   "source": [
    " The ```scipy.integrate.quad``` method takes a function, ```func```, and upper and lower limits, a and b, and returns the intergral of ```func``` with respect to its first argument between these limits. For example, to evaluate:\n",
    "\n",
    "$$\n",
    "\\int_0^2 x^2 \\mathrm{d}x = \\frac{8}{3}\n",
    "$$"
   ]
  },
  {
   "cell_type": "code",
   "execution_count": 4,
   "id": "d9d979fa-9395-42ea-9336-351f6c1dd583",
   "metadata": {},
   "outputs": [
    {
     "data": {
      "text/plain": [
       "(2.666666666666667, 2.960594732333751e-14)"
      ]
     },
     "execution_count": 4,
     "metadata": {},
     "output_type": "execute_result"
    }
   ],
   "source": [
    "from scipy.integrate import quad\n",
    "\n",
    "def func(x):\n",
    "    return x**2\n",
    "\n",
    "quad(func, 0, 2)"
   ]
  },
  {
   "cell_type": "markdown",
   "id": "c77ecd97-dfbc-4d44-b1a7-22f14304ed2a",
   "metadata": {},
   "source": [
    "```quad``` returns a tuple containing two values: the value of the integral and an estimate of the absololute error. For simple functions, an anonymous (```lambda```) function is often used:"
   ]
  },
  {
   "cell_type": "code",
   "execution_count": 7,
   "id": "97c5a99f-bff9-41bc-bc7f-6d90c07e0905",
   "metadata": {},
   "outputs": [
    {
     "data": {
      "text/plain": [
       "(2.666666666666667, 2.960594732333751e-14)"
      ]
     },
     "execution_count": 7,
     "metadata": {},
     "output_type": "execute_result"
    }
   ],
   "source": [
    "quad(lambda x: x**2, 0, 2)"
   ]
  },
  {
   "cell_type": "markdown",
   "id": "a4dac1e5-32f0-447a-87ab-d07064383cce",
   "metadata": {},
   "source": [
    "Functions with singularities or discontinuities can cause problems in numerical integration. Consider the integral:\n",
    "\n",
    "$$\n",
    "\\int_{-1}^1 {\\frac{\\mathrm{d}x}{\\sqrt{|1 - 4x^2|}}}.\n",
    "$$"
   ]
  },
  {
   "cell_type": "code",
   "execution_count": 13,
   "id": "a3787341-e9bf-4334-9503-d872c4555594",
   "metadata": {},
   "outputs": [
    {
     "name": "stderr",
     "output_type": "stream",
     "text": [
      "C:\\Users\\Rio Agustian\\AppData\\Local\\Temp\\ipykernel_19284\\3838698994.py:3: RuntimeWarning: divide by zero encountered in scalar divide\n",
      "  f = lambda x: 1 / np.sqrt(np.abs(1 - 4*x**2))\n",
      "C:\\Users\\Rio Agustian\\AppData\\Local\\Temp\\ipykernel_19284\\3838698994.py:4: IntegrationWarning: The maximum number of subdivisions (50) has been achieved.\n",
      "  If increasing the limit yields no improvement it is advised to analyze \n",
      "  the integrand in order to determine the difficulties.  If the position of a \n",
      "  local difficulty can be determined (singularity, discontinuity) one will \n",
      "  probably gain from splitting up the interval and calling the integrator \n",
      "  on the subranges.  Perhaps a special-purpose integrator should be used.\n",
      "  quad(f, -11, 1)\n"
     ]
    },
    {
     "data": {
      "text/plain": [
       "(4.120302776918401, nan)"
      ]
     },
     "execution_count": 13,
     "metadata": {},
     "output_type": "execute_result"
    }
   ],
   "source": [
    "import numpy as np\n",
    "\n",
    "f = lambda x: 1 / np.sqrt(np.abs(1 - 4*x**2))\n",
    "quad(f, -11, 1)"
   ]
  },
  {
   "cell_type": "markdown",
   "id": "506841a6-575c-496a-8ac4-acd3a30ea41e",
   "metadata": {},
   "source": [
    "When this happens, a sequence of *break points* can be specified as the argument points. In this case, the trouble lies with the singularities as $x = \\pm \\frac{1}{2}$ so the integral can be evaluated as follows,"
   ]
  },
  {
   "cell_type": "code",
   "execution_count": 17,
   "id": "01e4c410-df5b-457f-87ad-78dfd5c9827c",
   "metadata": {},
   "outputs": [
    {
     "data": {
      "text/plain": [
       "(2.8877542237184186, 3.632489864457966e-10)"
      ]
     },
     "execution_count": 17,
     "metadata": {},
     "output_type": "execute_result"
    }
   ],
   "source": [
    "quad(f, -1, 1, points=[-0.5, 0.5])"
   ]
  },
  {
   "cell_type": "markdown",
   "id": "4ca089d0-2585-4cf2-9e70-3e2bf3997242",
   "metadata": {},
   "source": [
    "To specify an infinite limit, use ```np.inf```:\n",
    "\n",
    "$$\n",
    "\\int_{-\\infty}^{\\infty} \\mathrm{e}^{-at}\\cos{kt} \\; \\mathrm{d}t = \\frac{a}{a^2 + k^2}\n",
    "$$\n",
    "\n",
    "for parameters $a = \\frac{5}{2}$ and $k=\\frac{\\pi}{8}$."
   ]
  },
  {
   "cell_type": "code",
   "execution_count": 25,
   "id": "da9c94fe-96ae-4242-8cb7-6657a567bca3",
   "metadata": {},
   "outputs": [
    {
     "data": {
      "text/plain": [
       "(0.39036805433229327, 7.550213632223383e-11)"
      ]
     },
     "execution_count": 25,
     "metadata": {},
     "output_type": "execute_result"
    }
   ],
   "source": [
    "def func(t, a, k):\n",
    "    return np.exp(-a * t) * np.cos(k*t)\n",
    "\n",
    "a, k = 2.5, np.pi / 8\n",
    "\n",
    "quad(func, 0, np.inf, args=(a, k))"
   ]
  }
 ],
 "metadata": {
  "kernelspec": {
   "display_name": "Python 3 (ipykernel)",
   "language": "python",
   "name": "python3"
  },
  "language_info": {
   "codemirror_mode": {
    "name": "ipython",
    "version": 3
   },
   "file_extension": ".py",
   "mimetype": "text/x-python",
   "name": "python",
   "nbconvert_exporter": "python",
   "pygments_lexer": "ipython3",
   "version": "3.12.4"
  }
 },
 "nbformat": 4,
 "nbformat_minor": 5
}
