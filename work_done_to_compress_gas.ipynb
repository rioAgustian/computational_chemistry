{
 "cells": [
  {
   "cell_type": "markdown",
   "id": "36bd77f5-b44c-40d1-8b8e-9692cb461224",
   "metadata": {},
   "source": [
    "# Work Done to Compress Gas\n",
    "\n",
    "**Rio Agustian Gilang Fernando**\n",
    "\n",
    "**Advanced Material Science and Nanotechnology**"
   ]
  },
  {
   "cell_type": "markdown",
   "id": "dce45040-7995-4a81-b05b-a92927a2eec9",
   "metadata": {},
   "source": [
    "*Question*\n",
    "\n",
    "How much work is done in compressing gaseous nitrogen, initially at 1 atm, isothermally at 298 K to 200 bar into 15 L scuba diving cylinder? Take $N_2$ to obey the van der Waals equation of state formula,\n",
    "\n",
    "$$\n",
    "p = \\frac{nRT}{V-nb} - \\frac{n^2a}{V^2}\n",
    "$$\n",
    "\n",
    "with pramters $a = 1.370 L^2 bar mol^{-2}$ and $b = 0.0387 L mol^{-1}$.\n",
    "\n",
    "Obtain $V_1$ and then use the following expression for the work done:\n",
    "\n",
    "$$\n",
    "w = -\\int_{V_1}^{V_2} p \\mathrm{d}V,\n",
    "$$\n",
    "\n",
    "to compare the value for $w$ obtained by analytical integration and by with numerical integration using ```scipy.integrate.quad```. Also, compare the result with the same analysis carried out under the assumption that $N_2$ behaves as an ideal gas."
   ]
  },
  {
   "cell_type": "markdown",
   "id": "d8f9a815-90ef-46c1-8941-4f7c471d0684",
   "metadata": {},
   "source": [
    "*Solution*\n",
    "\n",
    "If the process is isothermal then the temperature T = 298 K is constant. Let the initial pressure by p1 = 101325 Pa and the volume V1 (to be determined). The final pressure and volume are $p_2 = 2 \\times 10^7$ Pa and $V_2 = 15 L = 1.5 \\times 10^{-2} m^3$.\n",
    "\n",
    "In SI units, the van der Waals parameters are $a = 0.137 m^6 Pa mol^{-2}$ and $b = 3.87 \\times 10^{-5} m^3 mol^{-1}$."
   ]
  },
  {
   "cell_type": "code",
   "execution_count": 16,
   "id": "4f0dc4b8-481d-4758-a46f-43d6611adcf3",
   "metadata": {},
   "outputs": [],
   "source": [
    "import numpy as np\n",
    "from numpy.polynomial import Polynomial\n",
    "from scipy.integrate import quad\n",
    "\n",
    "# Define some quantities\n",
    "R = 8.314 # Gas constant, J.K-1.mol-1\n",
    "T = 298 # Temperature (K)2\n",
    "p1 = 101325 # Initial pressure (Pa)\n",
    "p2, V2 = 2.e7, 1.5e-2 # Final pressure (Pa) and volume (m3)\n",
    "a, b = 0.137, 3.87e-5 # van der Waals parameters (m6.Pa.mol-2 and m3.mol-1)"
   ]
  },
  {
   "cell_type": "markdown",
   "id": "e88a3655-4380-479b-ad80-2b1566a8e727",
   "metadata": {},
   "source": [
    "First, we need to know $n$, the number of moles of gas compressed, and hence $V_1$, the initial volume of the gas. Rearranging the van der Waals equation gives:\n",
    "\n",
    "\\begin{align}\n",
    "&pV^2 (V-nb) = nRTV^2 - n^2a(V-b) \\\\\n",
    "\\Rightarrow &abn^3 - aVn^2 + V^2 (bp + RT)n-pV^3=0\n",
    "\\end{align}\n",
    "\n",
    "This is a cubic equation in n which could be solved analytically, but is easier to handle numerically:"
   ]
  },
  {
   "cell_type": "code",
   "execution_count": 18,
   "id": "f32c23a4-babb-4383-9333-7ba5e1cb1e9e",
   "metadata": {},
   "outputs": [
    {
     "data": {
      "text/plain": [
       "array([120.29497623  +0.j        , 133.6509615 -296.59957559j,\n",
       "       133.6509615 +296.59957559j])"
      ]
     },
     "execution_count": 18,
     "metadata": {},
     "output_type": "execute_result"
    }
   ],
   "source": [
    "# A Numpy Polynomial representing the cubic equation in n.\n",
    "poly = Polynomial([-p2 * V2**3, V2**2 * (b*p2 + R*T), -a * V2, a * b])\n",
    "roots = poly.roots()\n",
    "roots"
   ]
  },
  {
   "cell_type": "markdown",
   "id": "37a3fe8c-21c0-4e31-9893-281cf59f11d2",
   "metadata": {},
   "source": [
    "Of the three roots, only one is real so we are still in the region of phase space where the van der Waals equation is valid. Extracting this value and explicitly dropping its (zero) imaginary part gives n:"
   ]
  },
  {
   "cell_type": "code",
   "execution_count": 22,
   "id": "6fd50225-ab30-4101-a687-afe470dcb432",
   "metadata": {},
   "outputs": [
    {
     "data": {
      "text/plain": [
       "array([ True, False, False])"
      ]
     },
     "execution_count": 22,
     "metadata": {},
     "output_type": "execute_result"
    }
   ],
   "source": [
    "np.isreal(roots)"
   ]
  },
  {
   "cell_type": "code",
   "execution_count": 30,
   "id": "72f592a4-35f0-4b57-ace9-3f5295c89b49",
   "metadata": {},
   "outputs": [
    {
     "data": {
      "text/plain": [
       "120.29497623236371"
      ]
     },
     "execution_count": 30,
     "metadata": {},
     "output_type": "execute_result"
    }
   ],
   "source": [
    "n = roots[np.isreal(roots)][0].real\n",
    "n"
   ]
  },
  {
   "cell_type": "markdown",
   "id": "b0484dc7-6638-4d7e-9afe-ee2eecd215cf",
   "metadata": {},
   "source": [
    "Comparing this with the value giveb by assuming ideal gas behavior, it can be seen that there is a small difference:"
   ]
  },
  {
   "cell_type": "code",
   "execution_count": 33,
   "id": "9de82da0-7ee2-4fe6-a515-822eff43c1b8",
   "metadata": {},
   "outputs": [
    {
     "data": {
      "text/plain": [
       "121.08628931873625"
      ]
     },
     "execution_count": 33,
     "metadata": {},
     "output_type": "execute_result"
    }
   ],
   "source": [
    "nideal = p2 * V2 / R / T\n",
    "nideal"
   ]
  },
  {
   "cell_type": "markdown",
   "id": "0fe6a153-8487-4c76-aafd-16dc52b0ee3b",
   "metadata": {},
   "source": [
    "The volume of this amount of nitrogen gas at 1 atm pressure can be approximated well by the ideal gas law, however:"
   ]
  },
  {
   "cell_type": "code",
   "execution_count": 36,
   "id": "b9169675-018e-43da-b15f-5217da898c5b",
   "metadata": {},
   "outputs": [
    {
     "data": {
      "text/plain": [
       "2.9414208226397216"
      ]
     },
     "execution_count": 36,
     "metadata": {},
     "output_type": "execute_result"
    }
   ],
   "source": [
    "V1 = n * R * T / p1\n",
    "V1"
   ]
  },
  {
   "cell_type": "markdown",
   "id": "5e3e157f-ad30-469c-938c-c7775e61d59c",
   "metadata": {},
   "source": [
    "The work integral can be evaluated analytically for a van der Waals gas,\n",
    "\n",
    "\\begin{align}\n",
    "w &= - \\int_{V_1}^{V_2} p \\mathrm{d}V \\\\\n",
    "&=-\\int_{V_1}^{V_2} \\frac{nRT}{V-nb} - \\frac{n^2a}{V^2} \\mathrm{d}V \\\\\n",
    "&=-nRT \\ln{\\left(\\frac{V_2 -nb}{V_1-nb}\\right)} - n^2 a \\left(\\frac{1}{V_2}-\\frac{1}{V_1}\\right).\n",
    "\\end{align}"
   ]
  },
  {
   "cell_type": "code",
   "execution_count": 45,
   "id": "bffd867f-26ac-4ffa-8911-c0f530275667",
   "metadata": {},
   "outputs": [
    {
     "data": {
      "text/plain": [
       "1552012.6088384087"
      ]
     },
     "execution_count": 45,
     "metadata": {},
     "output_type": "execute_result"
    }
   ],
   "source": [
    "term1 = -n*R*T*np.log((V2 - n*b)/(V1 - n*b))\n",
    "term2 = -n**2* a * (1/V2 - 1/V1)\n",
    "work = term1 + term2\n",
    "work"
   ]
  },
  {
   "cell_type": "markdown",
   "id": "b9ed7d16-857a-46d5-b9c5-a1c0dc6a5efa",
   "metadata": {},
   "source": [
    "This is about 1.55 MJ. For completeness, compare with the work required assuming the gas to be ideal:"
   ]
  },
  {
   "cell_type": "code",
   "execution_count": 48,
   "id": "ff8cb192-825f-402c-b3fe-d1b3e5c5552d",
   "metadata": {},
   "outputs": [
    {
     "data": {
      "text/plain": [
       "1573230.4681104878"
      ]
     },
     "execution_count": 48,
     "metadata": {},
     "output_type": "execute_result"
    }
   ],
   "source": [
    "work_ideal = -n*R*T*np.log(V2 /V1)\n",
    "work_ideal"
   ]
  },
  {
   "cell_type": "markdown",
   "id": "a5692e1d-62ee-4a49-8e66-47a2de0053ec",
   "metadata": {},
   "source": [
    "or 1.57 MJ: a little grater because an ideal gas has no attractive foreces between its molecules.\n",
    "\n",
    "To take the numerical approach:"
   ]
  },
  {
   "cell_type": "code",
   "execution_count": 55,
   "id": "a9c8c226-7abd-411a-99ff-9974064628b5",
   "metadata": {},
   "outputs": [
    {
     "name": "stdout",
     "output_type": "stream",
     "text": [
      "1552012.6088384101 0.004105310200539947\n"
     ]
    }
   ],
   "source": [
    "def p(V, n, R, T, a, b):\n",
    "    return n * R * T / (V - n * b) - n**2 * a / V**2\n",
    "\n",
    "wp, err = quad(p, V1, V2, args=(n, R, T, a, b))\n",
    "print(-wp, err)"
   ]
  },
  {
   "cell_type": "markdown",
   "id": "1e44963d-0775-4663-86e8-068ce6565c62",
   "metadata": {},
   "source": [
    "Unsuprisingly, this is close to the analytical value found above."
   ]
  }
 ],
 "metadata": {
  "kernelspec": {
   "display_name": "Python 3 (ipykernel)",
   "language": "python",
   "name": "python3"
  },
  "language_info": {
   "codemirror_mode": {
    "name": "ipython",
    "version": 3
   },
   "file_extension": ".py",
   "mimetype": "text/x-python",
   "name": "python",
   "nbconvert_exporter": "python",
   "pygments_lexer": "ipython3",
   "version": "3.12.4"
  }
 },
 "nbformat": 4,
 "nbformat_minor": 5
}
