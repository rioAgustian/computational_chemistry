{
 "cells": [
  {
   "cell_type": "markdown",
   "id": "b55560a5-2688-4ee0-a58f-ba76d6003c56",
   "metadata": {},
   "source": [
    "*Question:*\n",
    "\n",
    "The rate coefficient for isomerization reaction of cyclopropane to propane was measure at five temperatures, as given in the table below. Determine the Arrhenius coefficent and activation energy, and comment on their values.\n",
    "\n",
    "| $T (\\mathrm{K})$ | $k (\\mathrm{s}^-{1})$ |\n",
    "|---|---|\n",
    "|$700$ | $1.5 \\times 10^{-5}$|\n",
    "|$750$ | $4.9 \\times 10^{-4}$|\n",
    "|$800$ | $5.9 \\times 10^{-3}$|\n",
    "|$850$ | $4.7 \\times 10^{-2}$|\n",
    "|$900$ | $5.5 \\times 10^{-1}$|"
   ]
  },
  {
   "cell_type": "markdown",
   "id": "2bde1d78-657a-4194-a9ee-dbb9c9d55cb4",
   "metadata": {},
   "source": [
    "*Solution:*\n",
    "\n",
    "If the kinetics follow Arrhenius behavior, it should be possible to fot a plot of $y \\equiv \\ln{k}$ against $x \\equiv 1/T$ to a straight line with the formula\n",
    "\n",
    "$$\n",
    "\\ln{k} = \\ln{A} - \\frac{E_a}{RT}\n",
    "$$\n",
    "\n",
    "This function is linear in the parameters $a = \\ln{A}$ and $b = -E_a/R$ and can be fit using Numpy's linear least squares fitting funcion, ```np.linalg.lstq```."
   ]
  },
  {
   "cell_type": "code",
   "execution_count": 45,
   "id": "c46c1bf8-43dd-4f46-aa7e-d6bd500b39e9",
   "metadata": {},
   "outputs": [
    {
     "name": "stdout",
     "output_type": "stream",
     "text": [
      "Fit parameters: [    35.23538457 -32334.97480231] \n",
      "Squared residuals: [0.16337359]\n",
      "Rank of X: 2 \n",
      "Singular values of X: [2.23606975e+00 2.51075716e-04]\n"
     ]
    }
   ],
   "source": [
    "import numpy as np\n",
    "import matplotlib.pyplot as plt\n",
    "from scipy.constants import R\n",
    "\n",
    "# The experimental data: rate constant k (s-1) as a function of temperature, T (K)\n",
    "T = np.array([700, 750, 800, 850, 900])\n",
    "k = np.array([1.5e-5, 4.9e-4, 5.9e-3, 4.7e-2, 5.5e-1])\n",
    "\n",
    "y = np.log(k)\n",
    "X = np.vstack((np.ones(len(T)), 1/T)).T\n",
    "ret = np.linalg.lstsq(X, y, rcond=None)\n",
    "print('Fit parameters: {} \\nSquared residuals: {}\\nRank of X: {} \\nSingular values of X: {}'.format(*ret))"
   ]
  },
  {
   "cell_type": "code",
   "execution_count": 52,
   "id": "ed1d311c-d7ab-4286-bc3c-f8fd41b30a14",
   "metadata": {},
   "outputs": [
    {
     "name": "stdout",
     "output_type": "stream",
     "text": [
      "A = 2.01e+15 s-1\n",
      "Ea = 269 kJ.mol-1\n"
     ]
    }
   ],
   "source": [
    "# Retrieve the line intercept adn gradient; convert to A and Ea\n",
    "a, b = ret[0]\n",
    "A, Ea = np.exp(a), -b * R /1000\n",
    "print(f'A = {A:.2e} s-1')\n",
    "print(f'Ea = {Ea:.0f} kJ.mol-1')"
   ]
  },
  {
   "cell_type": "markdown",
   "id": "15a3e62e-ce15-4383-aaac-ea57d034868e",
   "metadata": {},
   "source": [
    "This activation energy is quite large since a carbon-carbon bond needs to break to open the cyclopropane ring. The pre-exponential Arrhenius factor is of the order of vibrational frequency, as expected for unimolecular reaction.\n",
    "\n",
    "The plot the best-fit line, we can create a function, ```get_lnk```, that retuns $\\ln{k}$ using the fitted values of $A$ and $E_a$ use it at two temperaturers. Below, this is compared with the experimental data, showing a decent enough fit."
   ]
  },
  {
   "cell_type": "code",
   "execution_count": 59,
   "id": "016aadce-36b9-4639-a049-846385382f4b",
   "metadata": {},
   "outputs": [
    {
     "data": {
      "image/png": "[encoded data removed]",
      "text/plain": [
       "<Figure size 640x480 with 1 Axes>"
      ]
     },
     "metadata": {},
     "output_type": "display_data"
    }
   ],
   "source": [
    "plt.plot(1/T, np.log(k), 'x')\n",
    "T1, T2 = 650, 950\n",
    "def get_lnk(T):\n",
    "    return np.log(A) - Ea * 1000 / R / T\n",
    "\n",
    "plt.plot([1/T1, 1/T2], [get_lnk(T1), get_lnk(T2)])\n",
    "plt.xlabel(r'$1/T \\; \\mathrm{K^{-1}}$')\n",
    "plt.ylabel(r'$\\ln(k /\\mathrm{s^{-1}})  $')\n",
    "plt.show()"
   ]
  }
 ],
 "metadata": {
  "kernelspec": {
   "display_name": "Python 3 (ipykernel)",
   "language": "python",
   "name": "python3"
  },
  "language_info": {
   "codemirror_mode": {
    "name": "ipython",
    "version": 3
   },
   "file_extension": ".py",
   "mimetype": "text/x-python",
   "name": "python",
   "nbconvert_exporter": "python",
   "pygments_lexer": "ipython3",
   "version": "3.12.4"
  }
 },
 "nbformat": 4,
 "nbformat_minor": 5
}
