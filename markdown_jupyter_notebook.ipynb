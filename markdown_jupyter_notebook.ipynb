{
 "cells": [
  {
   "cell_type": "markdown",
   "id": "c0f57400-2b77-43f0-a6dd-0b9a30a3ad93",
   "metadata": {},
   "source": [
    "# Markdown Cells in Jupyter Notebook\n",
    "\n",
    "**Rio Agustian Gilang Fernando**\n",
    "\n",
    "**Advanced Material Science and Nanotechnology**"
   ]
  },
  {
   "cell_type": "markdown",
   "id": "01723698-008a-4c51-85d7-1c02ee6294e6",
   "metadata": {},
   "source": [
    "# section 1\n",
    "\n",
    "## Section 1.1\n",
    "\n",
    "this is the first paragraph of the section called \"Section 1.1\" it consists of a few lines of text and ends with a blank line.\n",
    "\n",
    "This is the second paragaph of the section. It is defined by four lines.\n",
    "these will be merged into a single block of text because they are not separated by blank lines.\n",
    "\n",
    "## Secion 1.1\n",
    "\n",
    "And so on..."
   ]
  },
  {
   "cell_type": "markdown",
   "id": "0acb95a0-4018-446f-aa49-ac4f5325dda0",
   "metadata": {},
   "source": [
    "# section 1\n",
    "\n",
    "## Section 1.1\n",
    "\n",
    "this is the first paragraph of the section called \"Section 1.1\" it consists of a few lines of text and ends with a blank line.\n",
    "\n",
    "This is the second paragaph of the section. It is defined by four lines.\n",
    "these will be merged into a single block of text because they are not separated by blank lines.\n",
    "\n",
    "## Secion 1.1\n",
    "\n",
    "And so on..."
   ]
  },
  {
   "cell_type": "markdown",
   "id": "59d3db4c-473b-4d21-a082-1fa40bc51a97",
   "metadata": {},
   "source": [
    "this is a paragraph of text with a variety of font styles, inclusindg *italic*, **bold** and _underline_. If you want to rurround some text with literal asteriks, you have to \\*escape them\\*."
   ]
  },
  {
   "cell_type": "markdown",
   "id": "a642485e-0d3d-427f-9493-7d7e44fbd9ed",
   "metadata": {},
   "source": [
    "this is a paragraph of text with a variety of font styles, inclusindg *italic*, **bold** and _underline_. If you want to rurround some text with literal asteriks, you have to \\*escape them\\*."
   ]
  },
  {
   "cell_type": "markdown",
   "id": "013c83cd-ec1e-4025-b342-9c7489d5d82b",
   "metadata": {},
   "source": [
    "An unoredered list:\n",
    "\n",
    "* Solids\n",
    "    - Iron\n",
    "    - Titanium\n",
    "* Liquids\n",
    "  \n",
    "    - Bromine\n",
    "\n",
    "      _Note_: Bromine isa reddish-brown liquid, with a melting point of -7.2 oC and a boiling point of 58.8 oC. IIts vapor is noticaeable even at room temperature.\n",
    "    - Mercury\n",
    " \n",
    "      _Note_: Mercury is the only only metallic element that is liquid as standard temperature and pressure.\n",
    "\n",
    "* Gases\n",
    "  -  Hydrogen\n",
    "  -  Oxygen\n",
    "  -  Chlorine\n",
    "    "
   ]
  },
  {
   "cell_type": "markdown",
   "id": "ecbe9e30-9303-4f9c-b693-2fc61960d624",
   "metadata": {},
   "source": [
    "An unoredered list:\n",
    "\n",
    "* Solids\n",
    "    - Iron\n",
    "    - Titanium\n",
    "* Liquids\n",
    "  \n",
    "    - Bromine\n",
    "\n",
    "      _Note_: Bromine isa reddish-brown liquid, with a melting point of -7.2 oC and a boiling point of 58.8 oC. IIts vapor is noticaeable even at room temperature.\n",
    "    - Mercury\n",
    " \n",
    "      _Note_: Mercury is the only only metallic element that is liquid as standard temperature and pressure.\n",
    "\n",
    "* Gases\n",
    "  -  Hydrogen\n",
    "  -  Oxygen\n",
    "  -  Chlorine\n",
    "    "
   ]
  },
  {
   "cell_type": "markdown",
   "id": "a4a22404-9db7-4c10-ab2c-5cb494a8c3da",
   "metadata": {},
   "source": [
    "##### Instructions\n",
    "\n",
    "1. Draw a thin line in pemcil 1.5 cm from the bottom of the TLC plane.\n",
    "2. Apply sample sports in equal distances across the line.\n",
    "3. Pour the solvent into the TLC  chamber to a depth of 1 cm.\n",
    "4. Place the plate insided the champer with the pencil line just above the solvent surfacce.\n",
    "5. Allow sufficient time for the developement of the TLC sports."
   ]
  },
  {
   "cell_type": "markdown",
   "id": "f0e161c7-b633-45ee-99d2-76869e0e274a",
   "metadata": {},
   "source": [
    "##### Instructions\n",
    "\n",
    "1. Draw a thin line in pemcil 1.5 cm from the bottom of the TLC plane.\n",
    "2. Apply sample sports in equal distances across the line.\n",
    "3. Pour the solvent into the TLC  chamber to a depth of 1 cm.\n",
    "4. Place the plate insided the champer with the pencil line just above the solvent surfacce.\n",
    "5. Allow sufficient time for the developement of the TLC sports."
   ]
  },
  {
   "cell_type": "markdown",
   "id": "cce30879-4b78-45cf-b1ea-542d6234f1ed",
   "metadata": {},
   "source": [
    "This is a link to the [project Jupyter Website](https://jupyter.org/)"
   ]
  },
  {
   "cell_type": "markdown",
   "id": "8f752b24-416d-47ec-8d39-382745f1f057",
   "metadata": {},
   "source": [
    "This is a link to the [project Jupyter Website](https://jupyter.org/)"
   ]
  },
  {
   "cell_type": "markdown",
   "id": "80c3858c-283c-455d-a5e5-21bfa3233401",
   "metadata": {},
   "source": [
    "Some resources for free chemical data include [Wikipedia][wikipedia], [ChemSpider][chemspider] and the [Dortmund Data Bank][ddb].\n",
    "\n",
    "[wikipedia]: https://wikipedia.org\n",
    "[chemspider]: https://chemspider.com\n",
    "[ddb]: http://www.ddbst.com/free-data-html"
   ]
  },
  {
   "cell_type": "markdown",
   "id": "a4e32537-adf6-44d8-8d55-1441b1fedafb",
   "metadata": {},
   "source": [
    "Some resources for free chemical data include [Wikipedia][wikipedia], [ChemSpider][chemspider] and the [Dortmund Data Bank][ddb].\n",
    "\n",
    "[wikipedia]: https://wikipedia.org\n",
    "[chemspider]: https://chemspider.com\n",
    "[ddb]: http://www.ddbst.com/free-data-html"
   ]
  },
  {
   "cell_type": "markdown",
   "id": "a36a69ab-00ac-4e91-9044-1875008b13cf",
   "metadata": {},
   "source": [
    "My website is <https://scipython.com>."
   ]
  },
  {
   "cell_type": "markdown",
   "id": "86dd7fd6-532d-4675-b1f5-36a41c27249f",
   "metadata": {},
   "source": [
    "My website is <https://scipython.com>."
   ]
  },
  {
   "cell_type": "markdown",
   "id": "8f297520-32bd-43b8-9951-63c5ffcdaaff",
   "metadata": {},
   "source": [
    "Here is [my locak file, data.txt](files/data.txt)"
   ]
  },
  {
   "cell_type": "markdown",
   "id": "2f6d9dc5-4bf5-425b-8ba9-fc62ec4a41d5",
   "metadata": {},
   "source": [
    "Here is [my locak file, data.txt](files/data.txt)"
   ]
  },
  {
   "cell_type": "markdown",
   "id": "e84d2e48-3e74-4402-80dc-150f8ab46d74",
   "metadata": {},
   "source": [
    "This is an example of literal text:\n",
    "```\n",
    "id x y\n",
    "1 0 2\n",
    "2 1 4\n",
    "3 2 8\n",
    "4 4 6\n",
    "```"
   ]
  },
  {
   "cell_type": "markdown",
   "id": "e04b8c32-da9b-4113-bd5f-312c48c8ca35",
   "metadata": {},
   "source": [
    "This is an example of literal text:\n",
    "```\n",
    "id x y\n",
    "1 0 2\n",
    "2 1 4\n",
    "3 2 8\n",
    "4 4 6\n",
    "```"
   ]
  },
  {
   "cell_type": "markdown",
   "id": "4856679a-dc27-4bd6-8859-97ce610ec250",
   "metadata": {},
   "source": [
    "This is a code example:\n",
    "```\n",
    "python\n",
    "# A code example\n",
    "import numpy as np\n",
    "y = np.sin(np.pi / 3)\n",
    "\n",
    "def display_scaled_y(a):\n",
    "    print(a * y)\n",
    "```"
   ]
  },
  {
   "cell_type": "markdown",
   "id": "99596b4b-e2f9-4c5a-9bfc-69b9431103a4",
   "metadata": {},
   "source": [
    "This is a code example:\n",
    "```\n",
    "python\n",
    "# A code example\n",
    "import numpy as np\n",
    "y = np.sin(np.pi / 3)\n",
    "\n",
    "def display_scaled_y(a):\n",
    "    print(a * y)\n",
    "```"
   ]
  },
  {
   "cell_type": "markdown",
   "id": "e925212d-fcb2-4717-8062-fa4aa8e179fd",
   "metadata": {},
   "source": [
    "| Alloy | Melting point | Composition |\n",
    "|-------|---------------|-------------|\n",
    "| Field's metal| 62 oC | Bi (32.5\\%) / Sn (16.5 \\%) / In (51\\%) |\n",
    "|Roses's metal| 98 oC | Bi (50.0\\%) / Pb (25.0 \\%) / Sn (25\\%) |\n",
    "|Wood's metal| 70 oC | Bi (50.0\\%) / Pb (26.7 \\%) / Sn (13.3\\%) / Cd (10\\%) |\n",
    "|Cerrosafe| 74 oC | Bi (32.5\\%) / Pb (37.7 \\%) / Sn (11.3\\%) / Cd (8.5\\%) |"
   ]
  },
  {
   "cell_type": "markdown",
   "id": "a9a89fba-904e-4c72-bd35-d82843ded3c4",
   "metadata": {},
   "source": [
    "| Alloy | Melting point | Composition |\n",
    "|-------|---------------|-------------|\n",
    "| Field's metal| 62 oC | Bi (32.5\\%) / Sn (16.5 \\%) / In (51\\%) |\n",
    "|Roses's metal| 98 oC | Bi (50.0\\%) / Pb (25.0 \\%) / Sn (25\\%) |\n",
    "|Wood's metal| 70 oC | Bi (50.0\\%) / Pb (26.7 \\%) / Sn (13.3\\%) / Cd (10\\%) |\n",
    "|Cerrosafe| 74 oC | Bi (32.5\\%) / Pb (37.7 \\%) / Sn (11.3\\%) / Cd (8.5\\%) |"
   ]
  },
  {
   "cell_type": "markdown",
   "id": "f7fd5767-4a16-4633-977a-6d1cd5e4e309",
   "metadata": {},
   "source": [
    "| Nuclide | mass /Da | Nuclear spin | Natural abundance |\n",
    "|:-------:|:--------:|:------------:|:-----------------:|\n",
    "|$^{46}$Ti|45.953|0  |0.0825|\n",
    "|$^{47}$Ti|46.952|5/2|0.0744|\n",
    "|$^{48}$Ti|47.948|0  |0.7372|\n",
    "|$^{49}$Ti|48.948|7/2|0.0541|\n",
    "|$^{50}$Ti|49.945|0  |0.0518|"
   ]
  },
  {
   "cell_type": "markdown",
   "id": "8e9f1569-cbec-4dff-97a1-a1b2f32a4108",
   "metadata": {},
   "source": [
    "![Molecule](https://cdn.rcsb.org/images/structures/7bz5_assembly-1.jpeg) \n",
    "\n",
    "Figure 1. Structure of COVID-19 virus spike receptor-binding domain complexed with a neutralizing antibody"
   ]
  },
  {
   "cell_type": "markdown",
   "id": "c140e4ad-0b8a-45af-8780-9eedde479af3",
   "metadata": {},
   "source": [
    "<video controls style=\"width: 500px; margin: 0 auto; display: block;\" src=\"https://i.gifer.com/9ujd.mp4\" />"
   ]
  },
  {
   "cell_type": "markdown",
   "id": "d7e81a8c-1caa-46c6-bfac-dbf28fa348f6",
   "metadata": {},
   "source": [
    "<video controls style=\"width: 500px; margin: 0 auto; display: block;\" src=\"https://i.gifer.com/9ujd.mp4\" />"
   ]
  }
 ],
 "metadata": {
  "kernelspec": {
   "display_name": "Python 3 (ipykernel)",
   "language": "python",
   "name": "python3"
  },
  "language_info": {
   "codemirror_mode": {
    "name": "ipython",
    "version": 3
   },
   "file_extension": ".py",
   "mimetype": "text/x-python",
   "name": "python",
   "nbconvert_exporter": "python",
   "pygments_lexer": "ipython3",
   "version": "3.12.4"
  }
 },
 "nbformat": 4,
 "nbformat_minor": 5
}
