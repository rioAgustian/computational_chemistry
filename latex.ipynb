{
 "cells": [
  {
   "cell_type": "markdown",
   "id": "ec5af0b3-26dd-4aaa-a487-074b6a1bfe11",
   "metadata": {},
   "source": [
    "# Latex\n",
    "\n",
    "**Rio Agustian Gilang Fernando**\n",
    "\n",
    "**Advanced material Science and nanotechnology**"
   ]
  },
  {
   "cell_type": "markdown",
   "id": "d92c6b95-56d0-4e4f-b182-4ec1808e9ab5",
   "metadata": {},
   "source": [
    "An inline equation within a sentence of text, as in the definition of the function $f(\\theta) = \\sin(\\theta)$; displayed equations get their own line(s)between lines of text:\n",
    "$$\\sum_{i=1}^n i = \\frac{n(n+1)}{2}.$$"
   ]
  },
  {
   "cell_type": "markdown",
   "id": "3fb6a4e4-bde1-4095-8daa-e2d558eb1f76",
   "metadata": {},
   "source": [
    "$$\n",
    "V(x) = 0 \\text{ for all } x\n",
    "$$"
   ]
  },
  {
   "cell_type": "markdown",
   "id": "a4f29ca7-bf90-43d0-b9ac-8299a0b56ec6",
   "metadata": {},
   "source": [
    "$$\n",
    "H = \\frac{2}{\\frac{1}{x_1} + \\frac{1}{x_2}}\n",
    "$$"
   ]
  },
  {
   "cell_type": "markdown",
   "id": "0bcaf0ed-dacd-4118-92c2-1d2b072fb60c",
   "metadata": {},
   "source": [
    "$$\n",
    "\\frac{1}{\\sqrt{x+1}}\n",
    "$$"
   ]
  },
  {
   "cell_type": "markdown",
   "id": "14e07b3e-0bb1-4d85-8134-cc579a805e05",
   "metadata": {},
   "source": [
    "$$\n",
    "\\int_0^2 x^2 dx = \\frac{8}{3}\n",
    "$$"
   ]
  },
  {
   "cell_type": "markdown",
   "id": "fe8cf4d3-cd9f-49e9-90ce-e05ede0bf3f9",
   "metadata": {},
   "source": [
    "$$\n",
    "\\left(\\frac{1}{x} \\right)\n",
    "$$"
   ]
  },
  {
   "cell_type": "markdown",
   "id": "1ce7f43b-2b8b-46b3-b2c3-a510d7b57bc7",
   "metadata": {},
   "source": [
    "\\begin{matrix}\n",
    "-1 & 0 & 2 \\\\\n",
    "z & y & x \\\\\n",
    "\\end{matrix}"
   ]
  },
  {
   "cell_type": "markdown",
   "id": "ec33c10f-fa01-42f1-afc4-5e59bd604006",
   "metadata": {},
   "source": [
    "\\begin{pmatrix}\n",
    "-1 & 0 & 2 \\\\\n",
    "z & y & x \\\\\n",
    "\\end{pmatrix}"
   ]
  },
  {
   "cell_type": "markdown",
   "id": "be05530d-28a2-4ad7-92af-f52e386ea655",
   "metadata": {},
   "source": [
    "\\begin{bmatrix}\n",
    "-1 & 0 & 2 \\\\\n",
    "z & y & x \\\\\n",
    "\\end{bmatrix}"
   ]
  },
  {
   "cell_type": "markdown",
   "id": "0c3a8ee1-261f-457d-83bd-dd741bcc2fc8",
   "metadata": {},
   "source": [
    "\\begin{vmatrix}\n",
    "-1 & 0 & 2 \\\\\n",
    "z & y & x \\\\\n",
    "\\end{vmatrix}"
   ]
  },
  {
   "cell_type": "markdown",
   "id": "e270b7bd-ed4b-459e-bc00-511e191c1dce",
   "metadata": {},
   "source": [
    "$$\n",
    "\\vec{r}, \\boldsymbol{r}, \\underline{r}\n",
    "$$"
   ]
  },
  {
   "cell_type": "markdown",
   "id": "de9196b1-59eb-4745-8c9b-f67397713253",
   "metadata": {},
   "source": [
    "$$\n",
    "\\frac{1}{2} \\int\\int_D x^2 + y^2 \\mathrm{d}x \\mathrm{d}y\n",
    "$$\n",
    "\n",
    "$$\n",
    "\\textstyle \\frac{1}{2} \\displaystyle \\int\\!\\!\\!\\int_D x^2 + y^2 \\, \\mathrm{d}x \\,  \\mathrm{d}y\n",
    "$$"
   ]
  },
  {
   "cell_type": "markdown",
   "id": "52c135e7-c2da-45fa-bd7f-cbd591572503",
   "metadata": {},
   "source": [
    "$$\n",
    "A' \\;\\mathrm{and} \\; A'' \\; \\text{but not} \\; A\".\n",
    "$$"
   ]
  },
  {
   "cell_type": "markdown",
   "id": "9a817d4c-e4ef-4d76-8a71-5434df2a0279",
   "metadata": {},
   "source": [
    "$$\n",
    "E = 10 \\; \\mathrm{kJ \\, mol^{-1}}\n",
    "$$"
   ]
  },
  {
   "cell_type": "markdown",
   "id": "fff0f0b5-6195-4b64-8434-4e7eb899f24d",
   "metadata": {},
   "source": [
    "$$\n",
    "\\mathrm{CrO_4^{2-}(aq)} \\\\\n",
    "\\require{mchem}\n",
    "$$"
   ]
  },
  {
   "cell_type": "markdown",
   "id": "c7c01641-794b-4a9e-81eb-2d1af13eb9dd",
   "metadata": {},
   "source": [
    "$$\n",
    "\\ce{CrO_4^2-(aq)}\n",
    "$$"
   ]
  },
  {
   "cell_type": "markdown",
   "id": "f9fd9d53-c777-4755-9b2a-a1ce23e53330",
   "metadata": {},
   "source": [
    "$$\n",
    "\\ce{W^74+ + e- -> W^73+}\n",
    "$$"
   ]
  },
  {
   "cell_type": "markdown",
   "id": "15bf9581-1f35-44a8-8da2-2afab704ab51",
   "metadata": {},
   "source": [
    "\\begin{matrix}\n",
    "\\ce{^209_83Bi} & \\\\\n",
    "\\ce{CuSO4.5H2O} & \\\\\n",
    "\\ce{Ph-OH} & \\\\\n",
    "\\ce{H2C=O} & \\\\\n",
    "\\ce{HC#H} & \\\\\n",
    "\\ce{CO(g) + H2O(g) <=> CO2(g) + H2(g)} & \\\\\n",
    "\\ce{2023(g) <=>> 3O2(g)} & \\\\\n",
    "\\ce{N2(g) + O2(g) <<=> 2NO2(g)} & \\\\\\\n",
    "\\ce{AgNO3 + KCl -> AgCl v + KNO3} & \\\\\n",
    "\\ce{2Al + 2NaOH + 2H2O -> 2NaAlO2 + 3H2 ^} & \\\\\n",
    "\\ce{Alcohol ->[\\ce{KMnO4}] Acid} & \\\\\n",
    "\\ce{2KclO3(s) ->[][\\Delta] 3O2(g) 2KCl(s)} & \\\\\n",
    "\\ce{$n$C2H4 -> (CH2CH2)_{$n$}} & \\\\\n",
    "\\ce{A <=>[\\alpha][\\beta] B} & \\\\\n",
    "\\end{matrix}"
   ]
  },
  {
   "cell_type": "markdown",
   "id": "f42e8c36-ae3d-41fa-9c5d-ba6a0353dcac",
   "metadata": {},
   "source": [
    "$$\n",
    "\\ce{Cr2O7^2- + 14H+ + 6e- -> 2Cr^3+ + 7H2O}\n",
    "$$"
   ]
  },
  {
   "cell_type": "markdown",
   "id": "d1f44c49-6375-42e5-9bf5-145bb8f661a3",
   "metadata": {},
   "source": [
    "$\\require{mchem}$"
   ]
  },
  {
   "cell_type": "markdown",
   "id": "87ba4f7a-ebec-4450-866c-87d3c6dcacf3",
   "metadata": {},
   "source": [
    "$$\n",
    "\\ce{ClO4^{-}(aq) + H2O(l) + 2e- -> ClO3^-(aq) + 2OH^{-}(aq)}\n",
    "$$"
   ]
  },
  {
   "cell_type": "markdown",
   "id": "fd4467d9-158d-4a6a-81a0-12c6406d4e23",
   "metadata": {},
   "source": [
    "Under acidic conditions $(E^\\Theta) = 1.20 \\, \\mathrm{V}$:"
   ]
  },
  {
   "cell_type": "markdown",
   "id": "e65c90cf-dc52-4712-a0e5-0566b416a89f",
   "metadata": {},
   "source": [
    "$$\n",
    "\\ce{ClO4^{-}(aq) + 2H^+(aq) + 2e- -> ClO3^{-}(aq) + H2O(l)}\n",
    "$$"
   ]
  },
  {
   "cell_type": "markdown",
   "id": "ef3ca7c6-369e-4b7e-9f59-8fdafcd0fbb6",
   "metadata": {},
   "source": [
    "A cell cosntructed with the first half-cell pn the right-hand side and the second on the lefy-hand side will hace a conventional cell reactions:\n"
   ]
  },
  {
   "cell_type": "markdown",
   "id": "cecf6efd-9378-4187-b65d-313c94b684c4",
   "metadata": {},
   "source": [
    "$$\n",
    "\\ce{2H2O(l) -> 2OH^{-}(aq) + 2H^{+}(aq)}\n",
    "$$"
   ]
  },
  {
   "cell_type": "markdown",
   "id": "f8224796-e319-47f7-aae6-a8dc8a8764bb",
   "metadata": {},
   "source": [
    "The standard EMF of this cell is:"
   ]
  },
  {
   "cell_type": "code",
   "execution_count": 155,
   "id": "bff62893-362e-45b3-bf5d-dc4621754e38",
   "metadata": {},
   "outputs": [
    {
     "data": {
      "text/plain": [
       "-0.83"
      ]
     },
     "execution_count": 155,
     "metadata": {},
     "output_type": "execute_result"
    }
   ],
   "source": [
    "Estd = 0.37 - 1.20\n",
    "Estd"
   ]
  },
  {
   "cell_type": "markdown",
   "id": "04908da0-91de-4eea-9430-521008ef7cb8",
   "metadata": {},
   "source": [
    "That is, $E^\\Theta = -0.83 \\, \\mathrm{V}$. The corresponding standard molar Gibbs Free Energy change is:"
   ]
  },
  {
   "cell_type": "code",
   "execution_count": 158,
   "id": "79c660d0-5f21-46ae-a52b-2b4acce9399a",
   "metadata": {},
   "outputs": [
    {
     "data": {
      "text/plain": [
       "80082.55"
      ]
     },
     "execution_count": 158,
     "metadata": {},
     "output_type": "execute_result"
    }
   ],
   "source": [
    "import numpy as np\n",
    "\n",
    "# Faraday constant (C.mol-1) and gas constant (J.K.mol-1)\n",
    "F, R = 96485, 8.314\n",
    "\n",
    "# Temperature, K\n",
    "T = 298\n",
    "DrG_std = -F * Estd\n",
    "DrG_std"
   ]
  },
  {
   "cell_type": "markdown",
   "id": "9726d585-67c7-4cfb-9fda-03291535630a",
   "metadata": {},
   "source": [
    "That is $\\Delta_rG_m^{\\Theta} = 80.08 \\, \\mathrm{kJ mol^{-1}}$. The autoionization constant ()ionic product of water is the equilibirum constant of the above cell eaction, written as:\n",
    "\n",
    "$$\n",
    "K_w = [\\mathrm{OH^-}][\\mathrm{H^+}]\n",
    "$$\n",
    "\n",
    "since the concentrations are so small they can apporximate the ion activities well. This related to $\\Delta_rG_m^{\\Theta}$ through:\n",
    "\n",
    "$$\n",
    "\\Delta_rG_m^{\\Theta} = -RT \\ln{K_{\\mathrm{w}}}.\n",
    "$$\n",
    "\n",
    "Therefore,"
   ]
  },
  {
   "cell_type": "code",
   "execution_count": 170,
   "id": "f0350fe0-77d6-45c6-af75-494c8ccd9446",
   "metadata": {},
   "outputs": [
    {
     "data": {
      "text/plain": [
       "9.168560848141593e-15"
      ]
     },
     "execution_count": 170,
     "metadata": {},
     "output_type": "execute_result"
    }
   ],
   "source": [
    "Kw = np.exp(-DrG_std / R / T)\n",
    "Kw"
   ]
  },
  {
   "cell_type": "markdown",
   "id": "f0a87e7e-8e5d-4bb8-afec-37b9d81772f5",
   "metadata": {},
   "source": [
    "This value is usually expressed as the negative of the decimal logarithm (the decimal cologarithm), $\\mathrm{p}K_{\\mathrm{w}}$"
   ]
  },
  {
   "cell_type": "code",
   "execution_count": 177,
   "id": "91469ed1-8bbe-4df2-a142-fb7d763c0f11",
   "metadata": {},
   "outputs": [
    {
     "data": {
      "text/plain": [
       "14.03769882842608"
      ]
     },
     "execution_count": 177,
     "metadata": {},
     "output_type": "execute_result"
    }
   ],
   "source": [
    "pKw = -np.log10(Kw)\n",
    "pKw "
   ]
  },
  {
   "cell_type": "markdown",
   "id": "7c6b3e08-5c31-434a-8ae8-fd3c8c970eb1",
   "metadata": {},
   "source": [
    "That is, $\\mathrm{p}K_{\\mathrm{w}} = 14$ for pure water at 298 K.\n"
   ]
  }
 ],
 "metadata": {
  "kernelspec": {
   "display_name": "Python 3 (ipykernel)",
   "language": "python",
   "name": "python3"
  },
  "language_info": {
   "codemirror_mode": {
    "name": "ipython",
    "version": 3
   },
   "file_extension": ".py",
   "mimetype": "text/x-python",
   "name": "python",
   "nbconvert_exporter": "python",
   "pygments_lexer": "ipython3",
   "version": "3.12.4"
  }
 },
 "nbformat": 4,
 "nbformat_minor": 5
}
