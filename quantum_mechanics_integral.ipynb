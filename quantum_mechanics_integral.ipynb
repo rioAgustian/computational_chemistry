{
 "cells": [
  {
   "cell_type": "markdown",
   "id": "008f3928-cabf-46d6-b717-96296fa07e5f",
   "metadata": {},
   "source": [
    "# Some Integrals from Quantum Mechanics\n",
    "\n",
    "**Rio Agustian Gilang Fernando**\n",
    "\n",
    "**Advanced Material Science and Nanotechnology**"
   ]
  },
  {
   "cell_type": "code",
   "execution_count": 2,
   "id": "8fecb68a-24e3-441b-8594-ef77d045b5d6",
   "metadata": {},
   "outputs": [],
   "source": [
    "import numpy as np\n",
    "from scipy.integrate import quad, dblquad, tplquad"
   ]
  },
  {
   "cell_type": "markdown",
   "id": "4669e319-8034-4048-a8b6-b938e83ad170",
   "metadata": {},
   "source": [
    "(a) The one-dimensional harmonics oscillator ground state wavefunction is \n",
    "\n",
    "$$\n",
    "\\psi_0(a) = N\\exp(-q^2/2)\n",
    "$$\n",
    "\n",
    "where the displacement from equilibrium, $x$, has been scaled as the dimensionless quantity, $q = (\\mu k / \\hbar)^{1/4}x, \\mu$ is the oscillator mass and $k$ the force constant. Using this scaling for displacement, the classical oscillator turning points are $q_{\\pm}=\\pm1$, and so the probability of tunneling (i.e, for the oscillator to be found outside the classical limits) is\n",
    "\n",
    "$$\n",
    "P(q>q_+) + P(q<q_-) = 2P(q>q_+) = 2\\int_{q_+}^{infty} |\\psi_0(q)|^2 \\mathrm{d}q\n",
    "$$\n",
    "\n",
    "This integral can only be evaluated numerically.First, determine the normalization constant from the reuirement that\n",
    "\n",
    "$$\n",
    "\\braket{\\psi_0|\\psi_0} = 1 \\Rightarrow N^2 \\int_{-\\infty}^{\\infty} |\\psi_0(q)|^2 \\mathrm{d}q = 1\n",
    "$$"
   ]
  },
  {
   "cell_type": "code",
   "execution_count": 9,
   "id": "db674b61-6ba5-4d2d-97e5-518d8a4c266f",
   "metadata": {},
   "outputs": [
    {
     "data": {
      "text/plain": [
       "0.7511255444649425"
      ]
     },
     "execution_count": 9,
     "metadata": {},
     "output_type": "execute_result"
    }
   ],
   "source": [
    "def func(q):\n",
    "    return np.exp(-q**2)\n",
    "I, err = quad(func, -np.inf, np.inf)\n",
    "N = 1 / np.sqrt(I)\n",
    "N"
   ]
  },
  {
   "cell_type": "markdown",
   "id": "53421ab9-fdf2-4221-902b-b17925d67e48",
   "metadata": {},
   "source": [
    "In fact, this integral can be evaluated analytically and has the value $I = \\sqrt(\\pi)$, so $N=\\pi^{-1/4}$:"
   ]
  },
  {
   "cell_type": "code",
   "execution_count": 12,
   "id": "7f4e6cd7-1e72-47d5-970b-e9d3e18bce1c",
   "metadata": {},
   "outputs": [
    {
     "data": {
      "text/plain": [
       "0.7511255444649425"
      ]
     },
     "execution_count": 12,
     "metadata": {},
     "output_type": "execute_result"
    }
   ],
   "source": [
    "np.pi**(-0.25)"
   ]
  },
  {
   "cell_type": "markdown",
   "id": "aaf89ff3-d667-49d4-8015-486fafcf2941",
   "metadata": {},
   "source": [
    "The tunneling probability is then:\n"
   ]
  },
  {
   "cell_type": "code",
   "execution_count": 15,
   "id": "2354ab65-7672-4fe1-b8b2-83784019f100",
   "metadata": {},
   "outputs": [
    {
     "data": {
      "text/plain": [
       "0.1572992070502851"
      ]
     },
     "execution_count": 15,
     "metadata": {},
     "output_type": "execute_result"
    }
   ],
   "source": [
    "I, err = quad(func, 1, np.inf)\n",
    "Ptunneling = 2 * N**2 * I\n",
    "Ptunneling"
   ]
  },
  {
   "cell_type": "markdown",
   "id": "a519e95e-2ec8-4a02-9f12-dd27e1e6f218",
   "metadata": {},
   "source": [
    "or about 16%.\n",
    "\n",
    "(b) The two-dimensional particle in a rectengular box has wavefunctions given by:\n",
    "\n",
    "$$\n",
    "\\psi_{n,m} (x, y) = N \\sin{\\left(\\frac{n\\pi x}{L_x}\\right)} \\, \\sin{\\left(\\frac{m\\pi y}{L_y} \\right)}\n",
    "$$\n",
    "\n",
    "where the particle is confined to a region of zero potential for $0 < x< L_x$ and $0<y<Ly$; and $n=1, 2, 3, ...$ and $m = 1, 2, 3, ...$ are quantum numbers. The normalization constant, $N$, ensures that $\\braket{\\psi{n,m}|\\psi{n,m}} = 1$. To find it, evaluate the integral in the following expression and rearrange for $N$:\n",
    "\n",
    "$$\n",
    "N^2 \\int_0^{L_y} \\int_0^{L_x} \\sin{\\left(\\frac{n\\pi x}{L_x}\\right)} \\, \\sin{\\left(\\frac{m\\pi y}{L_y} \\right)} \\mathrm{d}x \\, \\mathrm{d}y = 1\n",
    "$$\n",
    "\n",
    "Although this integral is not hard to evaluate analytically and gives $N = 2/\\sqrt{L_x, L_y}$, we can also use ```dblquad```:"
   ]
  },
  {
   "cell_type": "code",
   "execution_count": 34,
   "id": "05c34608-71ff-45f6-a667-8375774994ea",
   "metadata": {},
   "outputs": [
    {
     "data": {
      "text/plain": [
       "1.0327955589886444"
      ]
     },
     "execution_count": 34,
     "metadata": {},
     "output_type": "execute_result"
    }
   ],
   "source": [
    "def func(x, y, n, m, Lx, Ly):\n",
    "    \"\"\"Return the square of the 2D particle-in-a-box wavefunction.\"\"\"\n",
    "    return (np.sin(n* np.pi * x/Lx) * np.sin(m * np.pi * y/Ly))**2\n",
    "\n",
    "# Example parameters: box dimensions (length units) and quantum numbers.\n",
    "Lx, Ly = 1.5, 2.5\n",
    "n, m = 2, 1\n",
    "\n",
    "# Evaluate the integral of the square of the unnormalized wavefunction\n",
    "I, unc = dblquad(func, 0, Ly, lambda y: 0, lambda y: Lx, args=(n, m, Lx, Ly))\n",
    "\n",
    "# The normalization constant is the reciprocal of the square root ot this integral\n",
    "N = 1 / np.sqrt(I)\n",
    "N"
   ]
  },
  {
   "cell_type": "markdown",
   "id": "9c62df80-26e1-4253-b39b-9cd53d9bff8e",
   "metadata": {},
   "source": [
    "(the units are those in inverse length). This is the same as the analytical resullt:"
   ]
  },
  {
   "cell_type": "code",
   "execution_count": 37,
   "id": "1524ec5b-afe9-411a-906a-3561c5173505",
   "metadata": {},
   "outputs": [
    {
     "data": {
      "text/plain": [
       "1.0327955589886444"
      ]
     },
     "execution_count": 37,
     "metadata": {},
     "output_type": "execute_result"
    }
   ],
   "source": [
    "2 / np.sqrt(Lx*Ly)"
   ]
  },
  {
   "cell_type": "markdown",
   "id": "9dbd7800-7a34-4943-b043-1b081bbed27b",
   "metadata": {},
   "source": [
    "(c) The following electron-electron repulsion integral appears in an approximate treatment of the wavefunction of ahelium atom:\n",
    "\n",
    "$$\n",
    "I = \\braket{11|11} = \\braket{\\varphi_1(r_1)\\varphi_1(r_1)|\\frac{1}{r_{12}}|\\varphi_1(r_1)\\varphi_1(r_1)}\n",
    ",$$\n",
    "\n",
    "where\n",
    "\n",
    "$$\n",
    "\\varphi(r_i) = \\sqrt{\\frac{Z^3}{\\pi}}e^{-Zr_i}\n",
    "$$\n",
    "\n",
    "is the hydrogenic 1s orbital occupied by electron $i$ and the electron-electron distance, $r_{12} = \\sqrt{r^2_1-2r_1r_2 \\cos{\\theta} + r^2_2}$ with $\\theta$ the angular separation of the position vectors $\\boldsymbol{r_1}$ and $\\boldsymbol{r_2}$.\n",
    "\n",
    "This integral can be evaluated analytically and is found to have the values 5Z/8, but here is a numerical approach.\n",
    "\n",
    "First note that the integral is over six coordinates: in spherical polar coordinates,$r_1, \\theta_1, \\phi_1, r_2, \\theta_2, \\phi_2$:\n",
    "\n",
    "$$\n",
    "I = \\left(\\frac{Z^3}{\\pi}\\right)^2 \\int_0^{2\\pi} \\int_0^{\\pi} \\int_0^{\\infty} \\int_0^{2\\pi} \\int_0^{\\pi} \\int_0^{\\infty} \\, \\mathrm{d}r_1\\, \\mathrm{d} \\theta_1\\, \\mathrm{d} \\phi_1\\, \\mathrm{d} r_2\\, \\mathrm{d} \\theta_2 \\, \\mathrm{d}\\phi_2\n",
    "$$\n",
    "\n",
    "The symmetry lets us integrate over both $\\phi_1$ and $\\phi_2$, and also $\\theta_2$ (by letting $\\theta=\\theta_1$: We need the angular separation of the electrons, so we can fix one and vary the other to obtain all the needed values of $\\theta$). This intoduces a factor of $2\\pi . 2 \\pi .2 = 8\\pi^2$ and reduces the integral to one over three coordinates:\n",
    "\n",
    "$$\n",
    "I = \\left(\\frac{Z^3}{\\pi}\\right)^2 8\\pi^2 \\int_0^{\\infty} \\int_0^{\\infty}  \\int_0^{\\pi} \\frac{\\mathrm{e}^{-2Zr_1}\\mathrm{e}^{-2Zr_2}}{r_{12}} \\mathrm{d} \\theta_1\\, \\mathrm{d}r_1\\,  \\, \\mathrm{d} r_2\n",
    "$$"
   ]
  },
  {
   "cell_type": "code",
   "execution_count": 71,
   "id": "efa15388-1161-4402-be70-c3ea111785b5",
   "metadata": {},
   "outputs": [
    {
     "data": {
      "text/plain": [
       "(0.6250000692531371, 1.489297783794502e-08)"
      ]
     },
     "execution_count": 71,
     "metadata": {},
     "output_type": "execute_result"
    }
   ],
   "source": [
    "def psi1(r, Z=1):\n",
    "    return np.sqrt(Z**3 / np.pi) * np.exp(-Z * r)\n",
    "def func(theta1, r2, r1, Z=1):\n",
    "    return ((psi1(r1, Z) * psi1(r2, Z) * r1 * r2)**2 * np.sin(theta1)\n",
    "            / np.sqrt(r1**2 + r2**2 - 2*r1*r2*np.cos(theta1))\n",
    "           )\n",
    "Z = 1\n",
    "I, unc = tplquad(func, 0, np.inf,\n",
    "                lambda r1: 0, lambda r1: np.inf,\n",
    "                lambda r1, theta1: 0, lambda r1, theta1: np.pi,\n",
    "                args=(Z,))\n",
    "I *= 8 * np.pi**2\n",
    "I, unc"
   ]
  },
  {
   "cell_type": "markdown",
   "id": "b705930c-ddd3-438f-9761-f4c48813c5c3",
   "metadata": {},
   "source": [
    "This is, within numerical error, equal to $5/8$."
   ]
  }
 ],
 "metadata": {
  "kernelspec": {
   "display_name": "Python 3 (ipykernel)",
   "language": "python",
   "name": "python3"
  },
  "language_info": {
   "codemirror_mode": {
    "name": "ipython",
    "version": 3
   },
   "file_extension": ".py",
   "mimetype": "text/x-python",
   "name": "python",
   "nbconvert_exporter": "python",
   "pygments_lexer": "ipython3",
   "version": "3.12.4"
  }
 },
 "nbformat": 4,
 "nbformat_minor": 5
}
